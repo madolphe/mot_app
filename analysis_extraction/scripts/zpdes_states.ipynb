{
 "cells": [
  {
   "cell_type": "code",
   "execution_count": 1,
   "id": "114655b1",
   "metadata": {},
   "outputs": [],
   "source": [
    "import pandas as pd\n",
    "import matplotlib.pyplot as plt\n",
    "import ipywidgets as widgets\n",
    "from ipywidgets import interact, interactive, fixed, interact_manual\n",
    "import warnings\n",
    "import numpy as np\n",
    "%matplotlib inline"
   ]
  },
  {
   "cell_type": "code",
   "execution_count": 2,
   "id": "2ceef3b1",
   "metadata": {},
   "outputs": [],
   "source": [
    "df = pd.read_csv('zpdes_states.csv')\n",
    "df = df.drop(columns=['Unnamed: 0'])"
   ]
  },
  {
   "cell_type": "code",
   "execution_count": 3,
   "id": "7958bfd3",
   "metadata": {},
   "outputs": [
    {
     "data": {
      "text/plain": [
       "array(['Axelle', 'mabortoluzzi', 'aliz.tey', 'nolan', 'kelly.vin',\n",
       "       'acastano', 'gaulard', 'audrey-baeyens', 'mangdoline', 'tilaborde',\n",
       "       'bqueran', 'Ane', 'Susanne', 'Romain851'], dtype=object)"
      ]
     },
     "execution_count": 3,
     "metadata": {},
     "output_type": "execute_result"
    }
   ],
   "source": [
    "df.participant.unique()"
   ]
  },
  {
   "cell_type": "code",
   "execution_count": 4,
   "id": "b21b05f2",
   "metadata": {},
   "outputs": [
    {
     "data": {
      "text/html": [
       "<div>\n",
       "<style scoped>\n",
       "    .dataframe tbody tr th:only-of-type {\n",
       "        vertical-align: middle;\n",
       "    }\n",
       "\n",
       "    .dataframe tbody tr th {\n",
       "        vertical-align: top;\n",
       "    }\n",
       "\n",
       "    .dataframe thead th {\n",
       "        text-align: right;\n",
       "    }\n",
       "</style>\n",
       "<table border=\"1\" class=\"dataframe\">\n",
       "  <thead>\n",
       "    <tr style=\"text-align: right;\">\n",
       "      <th></th>\n",
       "      <th>participant</th>\n",
       "      <th>episode</th>\n",
       "      <th>main_index</th>\n",
       "      <th>main_value</th>\n",
       "      <th>speed_values</th>\n",
       "      <th>tracking_duration_values</th>\n",
       "      <th>probe_duration_values</th>\n",
       "      <th>radius_values</th>\n",
       "      <th>episode_sample</th>\n",
       "      <th>results</th>\n",
       "    </tr>\n",
       "  </thead>\n",
       "  <tbody>\n",
       "    <tr>\n",
       "      <th>0</th>\n",
       "      <td>Axelle</td>\n",
       "      <td>0</td>\n",
       "      <td>0</td>\n",
       "      <td>0.05</td>\n",
       "      <td>[0.05, 0.05, 0.0, 0.0, 0.0, 0.0, 0.0]</td>\n",
       "      <td>[0.05, 0.05, 0.0, 0.0, 0.0, 0.0, 0.0]</td>\n",
       "      <td>[0.05, 0.05, 0.0, 0.0, 0.0, 0.0, 0.0]</td>\n",
       "      <td>[0.05, 0.05, 0.0, 0.0, 0.0, 0.0, 0.0]</td>\n",
       "      <td>{'MAIN': [0], 'nb2': [1, 1, 0, 0]}</td>\n",
       "      <td>1</td>\n",
       "    </tr>\n",
       "    <tr>\n",
       "      <th>1</th>\n",
       "      <td>Axelle</td>\n",
       "      <td>0</td>\n",
       "      <td>1</td>\n",
       "      <td>0.05</td>\n",
       "      <td>[0.05, 0.05, 0.0, 0.0, 0.0, 0.0, 0.0]</td>\n",
       "      <td>[0.05, 0.05, 0.0, 0.0, 0.0, 0.0, 0.0]</td>\n",
       "      <td>[0.05, 0.05, 0.0, 0.0, 0.0, 0.0, 0.0]</td>\n",
       "      <td>[0.05, 0.05, 0.0, 0.0, 0.0, 0.0, 0.0]</td>\n",
       "      <td>{'MAIN': [0], 'nb2': [1, 1, 0, 0]}</td>\n",
       "      <td>1</td>\n",
       "    </tr>\n",
       "    <tr>\n",
       "      <th>2</th>\n",
       "      <td>Axelle</td>\n",
       "      <td>0</td>\n",
       "      <td>2</td>\n",
       "      <td>0.00</td>\n",
       "      <td>[0.05, 0.0, 0.0, 0.0, 0.0, 0.0, 0.0]</td>\n",
       "      <td>[0.05, 0.0, 0.0, 0.0, 0.0, 0.0, 0.0]</td>\n",
       "      <td>[0.05, 0.0, 0.0, 0.0, 0.0, 0.0, 0.0]</td>\n",
       "      <td>[0.05, 0.0, 0.0, 0.0, 0.0, 0.0, 0.0]</td>\n",
       "      <td>{'MAIN': [0], 'nb2': [1, 1, 0, 0]}</td>\n",
       "      <td>1</td>\n",
       "    </tr>\n",
       "    <tr>\n",
       "      <th>3</th>\n",
       "      <td>Axelle</td>\n",
       "      <td>0</td>\n",
       "      <td>3</td>\n",
       "      <td>0.00</td>\n",
       "      <td>[0.05, 0.05, 0.0, 0.0, 0.0, 0.0, 0.0]</td>\n",
       "      <td>[0.05, 0.05, 0.0, 0.0, 0.0, 0.0, 0.0]</td>\n",
       "      <td>[0.05, 0.05, 0.0, 0.0, 0.0, 0.0, 0.0]</td>\n",
       "      <td>[0.05, 0.05, 0.0, 0.0, 0.0, 0.0, 0.0]</td>\n",
       "      <td>{'MAIN': [0], 'nb2': [1, 1, 0, 0]}</td>\n",
       "      <td>1</td>\n",
       "    </tr>\n",
       "    <tr>\n",
       "      <th>4</th>\n",
       "      <td>Axelle</td>\n",
       "      <td>0</td>\n",
       "      <td>4</td>\n",
       "      <td>0.00</td>\n",
       "      <td>[0.05, 0.05, 0.0, 0.0, 0.0, 0.0, 0.0]</td>\n",
       "      <td>[0.05, 0.05, 0.0, 0.0, 0.0, 0.0, 0.0]</td>\n",
       "      <td>[0.05, 0.05, 0.0, 0.0, 0.0, 0.0, 0.0]</td>\n",
       "      <td>[0.05, 0.05, 0.0, 0.0, 0.0, 0.0, 0.0]</td>\n",
       "      <td>{'MAIN': [0], 'nb2': [1, 1, 0, 0]}</td>\n",
       "      <td>1</td>\n",
       "    </tr>\n",
       "  </tbody>\n",
       "</table>\n",
       "</div>"
      ],
      "text/plain": [
       "  participant  episode  main_index  main_value  \\\n",
       "0      Axelle        0           0        0.05   \n",
       "1      Axelle        0           1        0.05   \n",
       "2      Axelle        0           2        0.00   \n",
       "3      Axelle        0           3        0.00   \n",
       "4      Axelle        0           4        0.00   \n",
       "\n",
       "                            speed_values  \\\n",
       "0  [0.05, 0.05, 0.0, 0.0, 0.0, 0.0, 0.0]   \n",
       "1  [0.05, 0.05, 0.0, 0.0, 0.0, 0.0, 0.0]   \n",
       "2   [0.05, 0.0, 0.0, 0.0, 0.0, 0.0, 0.0]   \n",
       "3  [0.05, 0.05, 0.0, 0.0, 0.0, 0.0, 0.0]   \n",
       "4  [0.05, 0.05, 0.0, 0.0, 0.0, 0.0, 0.0]   \n",
       "\n",
       "                tracking_duration_values  \\\n",
       "0  [0.05, 0.05, 0.0, 0.0, 0.0, 0.0, 0.0]   \n",
       "1  [0.05, 0.05, 0.0, 0.0, 0.0, 0.0, 0.0]   \n",
       "2   [0.05, 0.0, 0.0, 0.0, 0.0, 0.0, 0.0]   \n",
       "3  [0.05, 0.05, 0.0, 0.0, 0.0, 0.0, 0.0]   \n",
       "4  [0.05, 0.05, 0.0, 0.0, 0.0, 0.0, 0.0]   \n",
       "\n",
       "                   probe_duration_values  \\\n",
       "0  [0.05, 0.05, 0.0, 0.0, 0.0, 0.0, 0.0]   \n",
       "1  [0.05, 0.05, 0.0, 0.0, 0.0, 0.0, 0.0]   \n",
       "2   [0.05, 0.0, 0.0, 0.0, 0.0, 0.0, 0.0]   \n",
       "3  [0.05, 0.05, 0.0, 0.0, 0.0, 0.0, 0.0]   \n",
       "4  [0.05, 0.05, 0.0, 0.0, 0.0, 0.0, 0.0]   \n",
       "\n",
       "                           radius_values                      episode_sample  \\\n",
       "0  [0.05, 0.05, 0.0, 0.0, 0.0, 0.0, 0.0]  {'MAIN': [0], 'nb2': [1, 1, 0, 0]}   \n",
       "1  [0.05, 0.05, 0.0, 0.0, 0.0, 0.0, 0.0]  {'MAIN': [0], 'nb2': [1, 1, 0, 0]}   \n",
       "2   [0.05, 0.0, 0.0, 0.0, 0.0, 0.0, 0.0]  {'MAIN': [0], 'nb2': [1, 1, 0, 0]}   \n",
       "3  [0.05, 0.05, 0.0, 0.0, 0.0, 0.0, 0.0]  {'MAIN': [0], 'nb2': [1, 1, 0, 0]}   \n",
       "4  [0.05, 0.05, 0.0, 0.0, 0.0, 0.0, 0.0]  {'MAIN': [0], 'nb2': [1, 1, 0, 0]}   \n",
       "\n",
       "   results  \n",
       "0        1  \n",
       "1        1  \n",
       "2        1  \n",
       "3        1  \n",
       "4        1  "
      ]
     },
     "execution_count": 4,
     "metadata": {},
     "output_type": "execute_result"
    }
   ],
   "source": [
    "participant_name = 'Axelle'\n",
    "columns = ['speed_values','tracking_duration_values','probe_duration_values','radius_values']\n",
    "def transform_str_to_list(element):\n",
    "    return [float(value) for value in element[1:-1].split(',')]\n",
    "for col in columns: \n",
    "    df[col]=df[col].apply(transform_str_to_list)\n",
    "df.head()"
   ]
  },
  {
   "cell_type": "code",
   "execution_count": 5,
   "id": "2208a2b9",
   "metadata": {},
   "outputs": [
    {
     "name": "stdout",
     "output_type": "stream",
     "text": [
      "Nb_episode:  1023\n"
     ]
    }
   ],
   "source": [
    "df_participant = df[df['participant']==\"Axelle\"]\n",
    "nb_episode = len(df_participant)//5\n",
    "print('Nb_episode: ', nb_episode)"
   ]
  },
  {
   "cell_type": "code",
   "execution_count": 50,
   "id": "8ad98285",
   "metadata": {
    "scrolled": false
   },
   "outputs": [
    {
     "data": {
      "application/vnd.jupyter.widget-view+json": {
       "model_id": "8aa0c2a3fe144ff295fa2c744220e87c",
       "version_major": 2,
       "version_minor": 0
      },
      "text/plain": [
       "interactive(children=(IntSlider(value=0, description='x', max=1023), IntText(value=0, description='y'), Output…"
      ]
     },
     "metadata": {},
     "output_type": "display_data"
    },
    {
     "data": {
      "image/png": "[encoded data removed]",
      "text/plain": [
       "<Figure size 648x288 with 2 Axes>"
      ]
     },
     "metadata": {
      "needs_background": "light"
     },
     "output_type": "display_data"
    },
    {
     "data": {
      "image/png": "[encoded data removed]",
      "text/plain": [
       "<Figure size 1080x1080 with 5 Axes>"
      ]
     },
     "metadata": {
      "needs_background": "light"
     },
     "output_type": "display_data"
    }
   ],
   "source": [
    "%matplotlib inline\n",
    "\n",
    "index_episode = 0\n",
    "input_text = widgets.IntText()\n",
    "input_slider = widgets.IntSlider(min=0, max=nb_episode)\n",
    "widgets.jslink((input_text, 'value'), (input_slider, 'value'))\n",
    "warnings.simplefilter(action='ignore', category=FutureWarning)\n",
    "\n",
    "def get_max(list_values):\n",
    "    \"\"\" returns: (min_index, max_index)\"\"\"\n",
    "    max_index = np.where(np.array(list_values[0]) > 0)\n",
    "    return max_index[0][-1]\n",
    "    \n",
    "\n",
    "def plot_histogram(x, y):\n",
    "    index_episode = x\n",
    "    support_main=[i for i in range(6)]\n",
    "    df_participant_episode = df_participant.query(f'episode == {index_episode}')\n",
    "    main_values = df_participant_episode['main_value'].values\n",
    "    distrib_main = main_values  / sum(main_values)\n",
    "    fig, axs = plt.subplots(1,2, figsize=(9,4))\n",
    "    fig.tight_layout(pad=3.0)\n",
    "    fig.suptitle(f'Main dimension, episode={index_episode}')\n",
    "    axs[0].bar(support_main, main_values)\n",
    "    axs[0].set_title(\"LP values\")\n",
    "    axs[1].bar(support_main, distrib_main)\n",
    "    axs[1].set_title(\"Distribution\")\n",
    "\n",
    "def plot_radar(x,y):\n",
    "    index_episode = x\n",
    "    df_participant_episode = df_participant.query(f'episode == {index_episode}')\n",
    "    fig, axs = plt.subplots(1,5, subplot_kw={'projection': 'polar'}, figsize=(15,15))\n",
    "    fig.tight_layout(pad=3.0)\n",
    "    support_sub=[i for i in range(5)] + [0]\n",
    "    label_loc = np.linspace(start=0, stop=360, num=5)\n",
    "    # label_loc = np.append(label_loc, [0])\n",
    "    for idx, ax in enumerate(axs):\n",
    "        sub_dim = df_participant_episode.query(f'main_index == {idx}')\n",
    "        ax.set_title(sub_dim['main_value'].values)\n",
    "        if(sub_dim['main_value'].values[0] == 0):\n",
    "            ax.set_facecolor('black')\n",
    "        else:\n",
    "            speed_max = get_max(sub_dim['speed_values'].values)\n",
    "            radius_max = get_max(sub_dim['radius_values'].values)\n",
    "            tracking_max = get_max(sub_dim['tracking_duration_values'].values)\n",
    "            probe_max = get_max(sub_dim['probe_duration_values'].values)\n",
    "            activity_max = [speed_max, radius_max, tracking_max, probe_max, speed_max]\n",
    "            print(highest_act_lvl)\n",
    "            ax.plot(np.deg2rad(label_loc), activity_max)\n",
    "            ax.set_thetagrids(angles=label_loc, labels=['speed','radius','tracking','probe','speed'])\n",
    "            ax.set_rgrids(range(-1,1))\n",
    "            print(sub_dim['radius_values'].values)\n",
    "            print(radius_max)\n",
    "\n",
    "def run_all(x,y):\n",
    "    plot_histogram(x,y)\n",
    "    plot_radar(x,y)\n",
    "    \n",
    "interactive(run_all, x=input_slider, y=input_text)"
   ]
  },
  {
   "cell_type": "code",
   "execution_count": 6,
   "id": "43482673",
   "metadata": {},
   "outputs": [
    {
     "data": {
      "text/plain": [
       "(2, 1)"
      ]
     },
     "execution_count": 6,
     "metadata": {},
     "output_type": "execute_result"
    }
   ],
   "source": [
    "def get_min_max(list_values):\n",
    "    \"\"\" returns: (min_index, max_index)\"\"\"\n",
    "    return list_values.index(min(list_values)), list_values[::-1].index(max(list_values))\n",
    "test=[2,2,1]\n",
    "get_min_max(test)"
   ]
  },
  {
   "cell_type": "code",
   "execution_count": 47,
   "id": "a05096b4",
   "metadata": {},
   "outputs": [
    {
     "data": {
      "text/plain": [
       "3"
      ]
     },
     "execution_count": 47,
     "metadata": {},
     "output_type": "execute_result"
    }
   ],
   "source": [
    "max([1,2,3])"
   ]
  },
  {
   "cell_type": "code",
   "execution_count": null,
   "id": "e73fe7de",
   "metadata": {},
   "outputs": [],
   "source": []
  }
 ],
 "metadata": {
  "kernelspec": {
   "display_name": "Python 3 (ipykernel)",
   "language": "python",
   "name": "python3"
  },
  "language_info": {
   "codemirror_mode": {
    "name": "ipython",
    "version": 3
   },
   "file_extension": ".py",
   "mimetype": "text/x-python",
   "name": "python",
   "nbconvert_exporter": "python",
   "pygments_lexer": "ipython3",
   "version": "3.8.0"
  }
 },
 "nbformat": 4,
 "nbformat_minor": 5
}
